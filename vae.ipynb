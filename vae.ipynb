{
 "cells": [
  {
   "cell_type": "markdown",
   "metadata": {},
   "source": [
    "# AutoEncoder (AE)\n",
    "## What is AutoEncoder?\n",
    "It try to compress the dimensionality of your data $\\mathcal{X}$ into a smaller space, let's say latent space $\\mathcal{Z}$. So, AE can be used to map your data $\\mathcal{X} \\to mathcal{Z}$; but it can not be used to generate. Because latent variables $z$ don not have a distribution, and it is \n",
    "\n",
    "# Variational AutoEncoder"
   ]
  }
 ],
 "metadata": {
  "language_info": {
   "name": "python"
  }
 },
 "nbformat": 4,
 "nbformat_minor": 2
}
